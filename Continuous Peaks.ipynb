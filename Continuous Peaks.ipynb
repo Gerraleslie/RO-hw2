{
 "cells": [
  {
   "cell_type": "code",
   "execution_count": 50,
   "id": "b96d257f",
   "metadata": {},
   "outputs": [],
   "source": [
    "    import numpy as np\n",
    "import mlrose_hiive\n",
    "import matplotlib.pyplot as plt\n",
    "import time"
   ]
  },
  {
   "cell_type": "markdown",
   "id": "bcc0f8f4",
   "metadata": {},
   "source": [
    "# Contunues Peaks"
   ]
  },
  {
   "cell_type": "code",
   "execution_count": 74,
   "id": "03a4e6d2",
   "metadata": {},
   "outputs": [],
   "source": [
    "\n",
    "problem_no_fit = mlrose_hiive.ContinuousPeaksGenerator().generate(seed=1024, size=150)\n",
    "\n"
   ]
  },
  {
   "cell_type": "markdown",
   "id": "85e3a08c",
   "metadata": {},
   "source": [
    "# Randoom Hill climbing"
   ]
  },
  {
   "cell_type": "code",
   "execution_count": 75,
   "id": "fa7f19e7",
   "metadata": {},
   "outputs": [],
   "source": [
    "best_state_HC0, best_fitness_HC0, fitness_curve_HC0 = mlrose_hiive.random_hill_climb(problem_no_fit, max_attempts=100, max_iters=5000, restarts=0,\n",
    "                                                                         init_state=None, curve=True, random_state=1)\n",
    "best_state_HC10, best_fitness_HC10, fitness_curve_HC10 = mlrose_hiive.random_hill_climb(problem_no_fit, max_attempts=100, max_iters=5000, restarts=10,\n",
    "                                                                         init_state=None, curve=True, random_state=2)\n",
    "best_state_HC30, best_fitness_HC30, fitness_curve_HC30 = mlrose_hiive.random_hill_climb(problem_no_fit, max_attempts=100, max_iters=5000, restarts=30,\n",
    "                                                                         init_state=None, curve=True, random_state=3)\n",
    "best_state_HC50, best_fitness_HC50, fitness_curve_HC50 = mlrose_hiive.random_hill_climb(problem_no_fit, max_attempts=100, max_iters=5000, restarts=50,\n",
    "                                                                         init_state=None, curve=True, random_state=4)\n",
    "best_state_HC100, best_fitness_HC100, fitness_curve_HC100 = mlrose_hiive.random_hill_climb(problem_no_fit, max_attempts=100, max_iters=5000, restarts=100,\n",
    "                                                                         init_state=None, curve=True, random_state=5)\n",
    "best_state_HC150, best_fitness_HC150, fitness_curve_HC150 = mlrose_hiive.random_hill_climb(problem_no_fit, max_attempts=100, max_iters=5000, restarts=150,\n",
    "                                                                         init_state=None, curve=True, random_state=6)\n",
    "best_state_HC200, best_fitness_HC200, fitness_curve_HC200 = mlrose_hiive.random_hill_climb(problem_no_fit, max_attempts=100, max_iters=5000, restarts=200,\n",
    "                                                                         init_state=None, curve=True, random_state=7)\n",
    "best_state_HC250, best_fitness_HC250, fitness_curve_HC250 = mlrose_hiive.random_hill_climb(problem_no_fit, max_attempts=100, max_iters=5000, restarts=250,\n",
    "                                                                         init_state=None, curve=True, random_state=8)"
   ]
  },
  {
   "cell_type": "code",
   "execution_count": 76,
   "id": "9ff4bd8e",
   "metadata": {},
   "outputs": [
    {
     "data": {
      "text/plain": "<matplotlib.legend.Legend at 0x22046d10df0>"
     },
     "execution_count": 76,
     "metadata": {},
     "output_type": "execute_result"
    },
    {
     "data": {
      "text/plain": "<Figure size 432x288 with 1 Axes>",
      "image/png": "[encoded data removed]"
     },
     "metadata": {
      "needs_background": "light"
     },
     "output_type": "display_data"
    }
   ],
   "source": [
    "fig, ax = plt.subplots()  # Create a figure and an axes.\n",
    "ax.plot(range(0,len(list(fitness_curve_HC0))),fitness_curve_HC0[...,0],'-',label='restarts = 0')  # Plot some data on the axes.\n",
    "#ax.plot(range(0,len(list(fitness_curve_HC10))),fitness_curve_HC10[...,0],'-',label='restarts = 10')  # ... and some more.\n",
    "#ax.plot(range(0,len(list(fitness_curve_HC30))),fitness_curve_HC30[...,0],'-',label='restarts = 30')  # ... and some more.\n",
    "ax.plot(range(0,len(list(fitness_curve_HC50))),fitness_curve_HC50[...,0],'-',label='restarts = 50')  # ... and some more.\n",
    "ax.plot(range(0,len(list(fitness_curve_HC100))),fitness_curve_HC100[...,0],'-',label='restarts = 100')  # ... and some more.\n",
    "ax.plot(range(0,len(list(fitness_curve_HC150))),fitness_curve_HC150[...,0],'-',label='restarts = 150')  # ... and some more.\n",
    "ax.plot(range(0,len(list(fitness_curve_HC200))),fitness_curve_HC200[...,0],'-',label='restarts = 150')  # ... and some more.\n",
    "ax.plot(range(0,len(list(fitness_curve_HC250))),fitness_curve_HC250[...,0],'-',label='restarts = 250')  # ... and some more.\n",
    "\n",
    "ax.set_xlabel('Iterations')  # Add an x-label to the axes.\n",
    "ax.set_ylabel('Fitness')  # Add a y-label to the axes.\n",
    "ax.set_title(\"Continuous Peaks: RHC behaviours with different restarts\")  # Add a title to the axes.\n",
    "ax.legend()  # Add a legend."
   ]
  },
  {
   "cell_type": "code",
   "execution_count": 77,
   "id": "f775c7a0",
   "metadata": {},
   "outputs": [
    {
     "name": "stdout",
     "output_type": "stream",
     "text": [
      "9.0\n",
      "28.0\n",
      "32.0\n",
      "41.0\n",
      "63.0\n",
      "49.0\n",
      "69.0\n",
      "181.0\n"
     ]
    }
   ],
   "source": [
    "print(best_fitness_HC0)\n",
    "print(best_fitness_HC10)\n",
    "print(best_fitness_HC30)\n",
    "print(best_fitness_HC50)\n",
    "print(best_fitness_HC100)\n",
    "print(best_fitness_HC150)\n",
    "print(best_fitness_HC200)\n",
    "print(best_fitness_HC250)"
   ]
  },
  {
   "cell_type": "code",
   "execution_count": 78,
   "id": "1104b956",
   "metadata": {},
   "outputs": [
    {
     "name": "stdout",
     "output_type": "stream",
     "text": [
      "3.3063650131225586\n",
      "181.0\n"
     ]
    }
   ],
   "source": [
    "startRHC = time.time()\n",
    "\n",
    "\n",
    "best_state_RHC_best, best_fitness_RHC_best, fitness_curve_RHC_best = mlrose_hiive.random_hill_climb(problem_no_fit, max_attempts=100, max_iters=5000, restarts=250,\n",
    "                                                                         init_state=None, curve=True, random_state=8)\n",
    "\n",
    "endRHC = time.time()\n",
    "RHCtime = endRHC - startRHC\n",
    "print(RHCtime)\n",
    "print(best_fitness_RHC_best)"
   ]
  },
  {
   "cell_type": "markdown",
   "id": "c519055f",
   "metadata": {},
   "source": [
    "    # simulated annealing"
   ]
  },
  {
   "cell_type": "code",
   "execution_count": 79,
   "id": "a8c1ae57",
   "metadata": {},
   "outputs": [],
   "source": [
    "# Solve using simulated annealing - attempt 1\n",
    "schedule_SA = mlrose_hiive.GeomDecay(init_temp=0.5, decay=0.95, min_temp=1E-10)\n",
    "best_state_SA_GeomDecay, best_fitness_SA_GeomDecay, fitness_curve_SA_GeomDecay = mlrose_hiive.simulated_annealing(problem_no_fit, schedule=schedule_SA, \n",
    "                                                      max_attempts=100, max_iters=5000, init_state=None, curve=True, random_state=11)\n",
    "                                                                              \n",
    "# tune temperature\n",
    "schedule_arith =mlrose_hiive.ArithDecay(init_temp=0.5, decay=0.95, min_temp=1E-10)\n",
    "best_state_SA_arith, best_fitness_SA_arith, fitness_curve_SA_arith = mlrose_hiive.simulated_annealing(problem_no_fit, schedule = schedule_arith, \n",
    "                                                      max_attempts = 100,max_iters = 5000, init_state=None, curve=True,random_state = 22)\n",
    "                                                      \n",
    "schedule_exp =mlrose_hiive.ExpDecay(init_temp=0.5, exp_const=0.05, min_temp=1E-10)\n",
    "best_state_SA_exp, best_state_SA_exp, fitness_curve_SA_exp = mlrose_hiive.simulated_annealing(problem_no_fit, schedule = schedule_exp, max_attempts = 100,\n",
    "                                                      max_iters = 5000, init_state=None, curve=True,random_state = 33)\n",
    "                                                      "
   ]
  },
  {
   "cell_type": "code",
   "execution_count": 80,
   "id": "93a0c614",
   "metadata": {},
   "outputs": [
    {
     "data": {
      "text/plain": "<matplotlib.legend.Legend at 0x220486d2ca0>"
     },
     "execution_count": 80,
     "metadata": {},
     "output_type": "execute_result"
    },
    {
     "data": {
      "text/plain": "<Figure size 432x288 with 1 Axes>",
      "image/png": "[encoded data removed]"
     },
     "metadata": {
      "needs_background": "light"
     },
     "output_type": "display_data"
    }
   ],
   "source": [
    "fig, ax = plt.subplots()  # Create a figure and an axes.\n",
    "ax.plot(range(0,len(list(fitness_curve_SA_GeomDecay))),fitness_curve_SA_GeomDecay[...,0],'-',label='schedule = GeomDecay')  # Plot some data on the axes.\n",
    "ax.plot(range(0,len(list(fitness_curve_SA_arith))),fitness_curve_SA_arith[...,0],'-',label='schedule = ArithDecay')  # Plot more data on the axes...\n",
    "ax.plot(range(0,len(list(fitness_curve_SA_exp))),fitness_curve_SA_exp[...,0],'-',label='schedule = ExpDecay')  # ... and some more.\n",
    "ax.set_xlabel('Iterations')  # Add an x-label to the axes.\n",
    "ax.set_ylabel('Fitness')  # Add a y-label to the axes.\n",
    "ax.set_title(\"Continuous Peaks: SA behaviour with different ways of temperature decay\")  # Add a title to the axes.\n",
    "ax.legend()  # Add a legend."
   ]
  },
  {
   "cell_type": "code",
   "execution_count": 81,
   "id": "ba686939",
   "metadata": {},
   "outputs": [
    {
     "name": "stdout",
     "output_type": "stream",
     "text": [
      "126.0\n",
      "124.0\n",
      "104.0\n"
     ]
    }
   ],
   "source": [
    "print(best_fitness_SA_GeomDecay)\n",
    "print(best_fitness_SA_arith)\n",
    "print(best_state_SA_exp)"
   ]
  },
  {
   "cell_type": "code",
   "execution_count": 82,
   "id": "199d29e7",
   "metadata": {},
   "outputs": [],
   "source": [
    "# tune temperature decay\n",
    "schedule_GeomDecay_2 =mlrose_hiive.GeomDecay(init_temp=0.5, decay=0.5, min_temp=1E-10)\n",
    "best_state_SA_GeomDecay2, best_fitness_SA_GeomDecay2, fitness_curve_SA_GeomDecay2 = mlrose_hiive.simulated_annealing(problem_no_fit, schedule = schedule_GeomDecay_2, max_attempts = 100,\n",
    "                                                      max_iters = 5000, init_state=None, curve=True,random_state = 44)\n",
    "                                                      \n",
    "schedule_GeomDecay_3 =mlrose_hiive.GeomDecay(init_temp=0.5, decay=0.1, min_temp=1E-10)\n",
    "best_state_SA_GeomDecay3, best_fitness_SA_GeomDecay3, fitness_curve_SA_GeomDecay3 = mlrose_hiive.simulated_annealing(problem_no_fit, schedule = schedule_GeomDecay_3, max_attempts = 100,\n",
    "                                                      max_iters = 5000, init_state=None, curve=True,random_state = 55)\n",
    "                                      "
   ]
  },
  {
   "cell_type": "code",
   "execution_count": 83,
   "id": "7ed0d458",
   "metadata": {},
   "outputs": [
    {
     "data": {
      "text/plain": "<matplotlib.legend.Legend at 0x22048798b50>"
     },
     "execution_count": 83,
     "metadata": {},
     "output_type": "execute_result"
    },
    {
     "data": {
      "text/plain": "<Figure size 432x288 with 1 Axes>",
      "image/png": "[encoded data removed]"
     },
     "metadata": {
      "needs_background": "light"
     },
     "output_type": "display_data"
    }
   ],
   "source": [
    "fig, ax = plt.subplots()  # Create a figure and an axes.\n",
    "ax.plot(range(0,len(list(fitness_curve_SA_GeomDecay))),fitness_curve_SA_GeomDecay[...,0],'-',label='decay = 0.95')  # Plot some data on the axes.\n",
    "ax.plot(range(0,len(list(fitness_curve_SA_GeomDecay2))),fitness_curve_SA_GeomDecay2[...,0],'-',label='decay = 0.5')  # Plot more data on the axes...\n",
    "ax.plot(range(0,len(list(fitness_curve_SA_GeomDecay3))),fitness_curve_SA_GeomDecay3[...,0],'-',label='decay = 0.1')  # ... and some more.\n",
    "ax.set_xlabel('Iterations')  # Add an x-label to the axes.\n",
    "ax.set_ylabel('Fitness')  # Add a y-label to the axes.\n",
    "ax.set_title(\"Continuous Peaks: SA behaviour with different temperature decay\")  # Add a title to the axes.\n",
    "ax.legend()  # Add a legend."
   ]
  },
  {
   "cell_type": "code",
   "execution_count": 84,
   "id": "d30eadd2",
   "metadata": {},
   "outputs": [
    {
     "name": "stdout",
     "output_type": "stream",
     "text": [
      "142.0\n",
      "116.0\n",
      "126.0\n"
     ]
    }
   ],
   "source": [
    "print(best_fitness_SA_GeomDecay3)\n",
    "print(best_fitness_SA_GeomDecay2)\n",
    "print(best_fitness_SA_GeomDecay)\n"
   ]
  },
  {
   "cell_type": "code",
   "execution_count": 85,
   "id": "ccc74791",
   "metadata": {},
   "outputs": [],
   "source": [
    "schedule_SA_GeomDecayT0 =mlrose_hiive.GeomDecay(init_temp=0.2, decay=0.5, min_temp=1E-10)\n",
    "best_state_SAT0, best_fitness_SAT0, fitness_curve_SAT0 = mlrose_hiive.simulated_annealing(problem_no_fit, schedule = schedule_SA_GeomDecayT0, max_attempts = 100,\n",
    "                                                      max_iters = 5000, init_state=None, curve=True,random_state = 66)\n",
    "\n",
    "schedule_SA_GeomDecayT1 =mlrose_hiive.GeomDecay(init_temp=0.5, decay=0.5, min_temp=1E-10)\n",
    "best_state_SAT1, best_fitness_SAT1, fitness_curve_SAT1 = mlrose_hiive.simulated_annealing(problem_no_fit, schedule = schedule_SA_GeomDecayT1, max_attempts = 100,\n",
    "                                                      max_iters = 5000, init_state=None, curve=True,random_state = 77)\n",
    "\n",
    "                                                    \n",
    "schedule_SA_GeomDecayT2 =mlrose_hiive.GeomDecay(init_temp=1, decay=0.5, min_temp=1E-10)\n",
    "best_state_ST2, best_fitness_SAT2, fitness_curve_SAT2 = mlrose_hiive.simulated_annealing(problem_no_fit, schedule = schedule_SA_GeomDecayT2, max_attempts = 100,\n",
    "                                                      max_iters = 5000, init_state=None, curve=True, random_state = 88)\n",
    "                                                 \n",
    "schedule_SA_GeomDecayT3 =mlrose_hiive.GeomDecay(init_temp=2, decay=0.5, min_temp=1E-10)\n",
    "best_state_SAT3, best_fitness_SAT3, fitness_curve_SAT3 = mlrose_hiive.simulated_annealing(problem_no_fit, schedule = schedule_SA_GeomDecayT3, max_attempts = 100,\n",
    "                                                      max_iters = 5000, init_state=None, curve=True,random_state = 99)\n",
    "schedule_SA_GeomDecayT4 =mlrose_hiive.GeomDecay(init_temp=3, decay=0.5, min_temp=1E-10)\n",
    "best_state_SAT4, best_fitness_SAT4, fitness_curve_SAT4 = mlrose_hiive.simulated_annealing(problem_no_fit, schedule = schedule_SA_GeomDecayT4, max_attempts = 100,\n",
    "                                                      max_iters = 5000, init_state=None, curve=True,random_state = 100)\n",
    "\n",
    "schedule_SA_GeomDecayT5 =mlrose_hiive.GeomDecay(init_temp=4, decay=0.5, min_temp=1E-10)\n",
    "best_state_SAT5, best_fitness_SAT5, fitness_curve_SAT5 = mlrose_hiive.simulated_annealing(problem_no_fit, schedule = schedule_SA_GeomDecayT5, max_attempts = 100,\n",
    "                                                      max_iters = 5000, init_state=None, curve=True,random_state = 100)\n",
    "schedule_SA_GeomDecayT6 =mlrose_hiive.GeomDecay(init_temp=10, decay=0.5, min_temp=1E-10)\n",
    "best_state_SAT6, best_fitness_SAT6, fitness_curve_SAT6 = mlrose_hiive.simulated_annealing(problem_no_fit, schedule = schedule_SA_GeomDecayT6, max_attempts = 100,\n",
    "                                                      max_iters = 5000, init_state=None, curve=True,random_state = 100)"
   ]
  },
  {
   "cell_type": "code",
   "execution_count": 86,
   "id": "defb5be5",
   "metadata": {},
   "outputs": [
    {
     "data": {
      "text/plain": "<matplotlib.legend.Legend at 0x22046dcefd0>"
     },
     "execution_count": 86,
     "metadata": {},
     "output_type": "execute_result"
    },
    {
     "data": {
      "text/plain": "<Figure size 432x288 with 1 Axes>",
      "image/png": "[encoded data removed]"
     },
     "metadata": {
      "needs_background": "light"
     },
     "output_type": "display_data"
    }
   ],
   "source": [
    "fig, ax = plt.subplots()  # Create a figure and an axes.\n",
    "ax.plot(range(0,len(list(fitness_curve_SAT0))),fitness_curve_SAT0[...,0],'-',label='temp = 0.2')  # Plot more data on the axes...\n",
    "\n",
    "ax.plot(range(0,len(list(fitness_curve_SAT1))),fitness_curve_SAT1[...,0],'-',label='temp = 0.5')  # Plot more data on the axes...\n",
    "ax.plot(range(0,len(list(fitness_curve_SAT2))),fitness_curve_SAT2[...,0],'-',label='temp = 1')  # Plot some data on the axes.\n",
    "ax.plot(range(0,len(list(fitness_curve_SAT3))),fitness_curve_SAT3[...,0],'-',label='temp = 2')  # ... and some more.\n",
    "ax.plot(range(0,len(list(fitness_curve_SAT4))),fitness_curve_SAT4[...,0],'-',label='temp = 3')  # ... and some more.\n",
    "ax.plot(range(0,len(list(fitness_curve_SAT5))),fitness_curve_SAT5[...,0],'-',label='temp = 4')  # ... and some more.\n",
    "ax.plot(range(0,len(list(fitness_curve_SAT6))),fitness_curve_SAT6[...,0],'-',label='temp = 4')  # ... and some more.\n",
    "\n",
    "ax.set_xlabel('Iterations')  # Add an x-label to the axes.\n",
    "ax.set_ylabel('Fitness')  # Add a y-label to the axes.\n",
    "ax.set_title(\"Continuous Peaks: SA behaviour with different temperature\")  # Add a title to the axes.\n",
    "ax.legend()  # Add a legend"
   ]
  },
  {
   "cell_type": "code",
   "execution_count": 87,
   "id": "5194675e",
   "metadata": {},
   "outputs": [
    {
     "name": "stdout",
     "output_type": "stream",
     "text": [
      "239.0\n",
      "264.0\n",
      "101.0\n",
      "123.0\n",
      "269.0\n",
      "269.0\n"
     ]
    }
   ],
   "source": [
    "print(best_fitness_SAT0)\n",
    "print(best_fitness_SAT1)\n",
    "print(best_fitness_SAT2)\n",
    "print(best_fitness_SAT3)\n",
    "print(best_fitness_SAT4)\n",
    "print(best_fitness_SAT5)"
   ]
  },
  {
   "cell_type": "code",
   "execution_count": 88,
   "id": "b55fd303",
   "metadata": {},
   "outputs": [
    {
     "name": "stdout",
     "output_type": "stream",
     "text": [
      "0.38219714164733887\n",
      "269.0\n"
     ]
    }
   ],
   "source": [
    "startSA = time.time()\n",
    "\n",
    "\n",
    "schedule_arith_best = mlrose_hiive.GeomDecay(init_temp=3, decay=0.5, min_temp=1E-10)\n",
    "best_state_SA_best, best_state_SA_best, fitness_curve_SA_best = mlrose_hiive.simulated_annealing(problem_no_fit, schedule = schedule_arith_best, max_attempts = 100,\n",
    "                                                      max_iters = 5000, init_state=None, curve=True,random_state = 100)\n",
    "                                                      \n",
    "endSA = time.time()\n",
    "SAtime = endSA - startSA\n",
    "print(SAtime)\n",
    "print(best_state_SA_best)"
   ]
  },
  {
   "cell_type": "markdown",
   "id": "9222e208",
   "metadata": {},
   "source": [
    "# genetic algorithm"
   ]
  },
  {
   "cell_type": "code",
   "execution_count": 89,
   "id": "b5b09ea9",
   "metadata": {},
   "outputs": [],
   "source": [
    "best_state_GA50, best_fitness_GA50, fitness_curve_GA50 = mlrose_hiive.genetic_alg(problem_no_fit, mutation_prob = 0.2, pop_size=50,\n",
    "                                                                         max_attempts = 100, curve=True,random_state = 111)\n",
    "best_state_GA100, best_fitness_GA100, fitness_curve_GA100 = mlrose_hiive.genetic_alg(problem_no_fit, mutation_prob = 0.2, pop_size=100,\n",
    "                                                                         max_attempts = 100, curve=True,random_state = 222)\n",
    "best_state_GA200, best_fitness_GA200, fitness_curve_GA200 = mlrose_hiive.genetic_alg(problem_no_fit, mutation_prob = 0.2, pop_size=200, \n",
    "                                                                         max_attempts = 100, curve=True, random_state = 333)\n",
    "best_state_GA300, best_fitness_GA300, fitness_curve_GA300 = mlrose_hiive.genetic_alg(problem_no_fit, mutation_prob = 0.2, pop_size=300,\n",
    "                                                                         max_attempts = 100, curve=True,random_state = 444)"
   ]
  },
  {
   "cell_type": "code",
   "execution_count": 90,
   "id": "80c160d8",
   "metadata": {},
   "outputs": [
    {
     "data": {
      "text/plain": "<matplotlib.legend.Legend at 0x22046e3c8b0>"
     },
     "execution_count": 90,
     "metadata": {},
     "output_type": "execute_result"
    },
    {
     "data": {
      "text/plain": "<Figure size 432x288 with 1 Axes>",
      "image/png": "[encoded data removed]"
     },
     "metadata": {
      "needs_background": "light"
     },
     "output_type": "display_data"
    }
   ],
   "source": [
    "fig, ax = plt.subplots()  # Create a figure and an axes.\n",
    "ax.plot(range(0,len(list(fitness_curve_GA50))),fitness_curve_GA50[...,0],'-',label='pop_size = 50')  # Plot more data on the axes...\n",
    "ax.plot(range(0,len(list(fitness_curve_GA100))),fitness_curve_GA100[...,0],'-',label='pop_size = 100')  # Plot more data on the axes...\n",
    "ax.plot(range(0,len(list(fitness_curve_GA200))),fitness_curve_GA200[...,0],'-',label='pop_size = 200')  # Plot some data on the axes.\n",
    "ax.plot(range(0,len(list(fitness_curve_GA300))),fitness_curve_GA300[...,0],'-',label='pop_size = 300')  # ... and some more.\n",
    "ax.set_xlabel('Iterations')  # Add an x-label to the axes.\n",
    "ax.set_ylabel('Fitness')  # Add a y-label to the axes.\n",
    "ax.set_title(\"Continuous Peaks: GA behaviour with different population\")  # Add a title to the axes.\n",
    "ax.legend()  # Add a legend."
   ]
  },
  {
   "cell_type": "code",
   "execution_count": 91,
   "id": "1f533cf2",
   "metadata": {},
   "outputs": [
    {
     "name": "stdout",
     "output_type": "stream",
     "text": [
      "106.0\n",
      "150.0\n",
      "243.0\n",
      "268.0\n"
     ]
    }
   ],
   "source": [
    "print(best_fitness_GA50)\n",
    "print(best_fitness_GA100)\n",
    "print(best_fitness_GA200)\n",
    "print(best_fitness_GA300)"
   ]
  },
  {
   "cell_type": "code",
   "execution_count": 92,
   "id": "7f3d3f41",
   "metadata": {},
   "outputs": [],
   "source": [
    "# Solve using genetic algorithm\n",
    "best_state_GA_m2, best_fitness_GA_m2, fitness_curve_GA_m2 = mlrose_hiive.genetic_alg(problem_no_fit, mutation_prob = 0.2, pop_size=100, max_attempts = 100, curve=True,\n",
    "                                              random_state = 555)\n",
    "best_state_GA_m5, best_fitness_GA_m5, fitness_curve_GA_m5 = mlrose_hiive.genetic_alg(problem_no_fit, mutation_prob = 0.5, pop_size=100, max_attempts = 100, curve=True,\n",
    "                                              random_state = 666)\n",
    "best_state_GA_m8, best_fitness_GA_m8, fitness_curve_GA_m8 = mlrose_hiive.genetic_alg(problem_no_fit, mutation_prob = 0.8, pop_size=100, max_attempts = 100, curve=True,\n",
    "                                              random_state = 777)"
   ]
  },
  {
   "cell_type": "code",
   "execution_count": 93,
   "id": "4d95bcc4",
   "metadata": {},
   "outputs": [
    {
     "data": {
      "text/plain": "<matplotlib.legend.Legend at 0x22046d46700>"
     },
     "execution_count": 93,
     "metadata": {},
     "output_type": "execute_result"
    },
    {
     "data": {
      "text/plain": "<Figure size 432x288 with 1 Axes>",
      "image/png": "[encoded data removed]"
     },
     "metadata": {
      "needs_background": "light"
     },
     "output_type": "display_data"
    }
   ],
   "source": [
    "fig, ax = plt.subplots()  # Create a figure and an axes.\n",
    "ax.plot(range(0,len(list(fitness_curve_GA_m2))),fitness_curve_GA_m2[...,0],'-',label='mutation_prob = 0.2')  # Plot more data on the axes...\n",
    "ax.plot(range(0,len(list(fitness_curve_GA_m5))),fitness_curve_GA_m5[...,0],'-',label='mutation_prob = 0.5')  # Plot some data on the axes.\n",
    "ax.plot(range(0,len(list(fitness_curve_GA_m8))),fitness_curve_GA_m8[...,0],'-',label='mutation_prob = 0.8')  # ... and some more.\n",
    "ax.set_xlabel('Iterations')  # Add an x-label to the axes.\n",
    "ax.set_ylabel('Fitness')  # Add a y-label to the axes.\n",
    "ax.set_title(\"FlipFlop: GA behaviour with different mutationprobablity\")  # Add a title to the axes.\n",
    "ax.legend()  # Add a legend."
   ]
  },
  {
   "cell_type": "code",
   "execution_count": 94,
   "id": "c7431d3b",
   "metadata": {},
   "outputs": [
    {
     "name": "stdout",
     "output_type": "stream",
     "text": [
      "244.0\n",
      "183.0\n",
      "150.0\n"
     ]
    }
   ],
   "source": [
    "print(best_fitness_GA_m2)\n",
    "print(best_fitness_GA_m5)\n",
    "print(best_fitness_GA_m8)"
   ]
  },
  {
   "cell_type": "code",
   "execution_count": 95,
   "id": "3aaac4f1",
   "metadata": {},
   "outputs": [
    {
     "name": "stdout",
     "output_type": "stream",
     "text": [
      "4.811294317245483\n",
      "244.0\n"
     ]
    }
   ],
   "source": [
    "startGA = time.time()\n",
    "\n",
    "best_state_GA_best, best_fitness_GA_best, fitness_curve_GA_best = mlrose_hiive.genetic_alg(problem_no_fit, mutation_prob = 0.2, pop_size=100, max_attempts = 100, curve=True,\n",
    "                                              random_state = 555)\n",
    "\n",
    "endGA = time.time()\n",
    "GAtime = endGA - startGA\n",
    "print(GAtime)\n",
    "print(best_fitness_GA_best)"
   ]
  },
  {
   "cell_type": "code",
   "execution_count": 95,
   "id": "7ae308e2",
   "metadata": {},
   "outputs": [],
   "source": []
  },
  {
   "cell_type": "markdown",
   "id": "02be94a9",
   "metadata": {},
   "source": [
    "# mimic"
   ]
  },
  {
   "cell_type": "code",
   "execution_count": null,
   "id": "157dc396",
   "metadata": {
    "pycharm": {
     "is_executing": true
    }
   },
   "outputs": [],
   "source": [
    "best_state_mimic100, best_fitness_mimic100, fitness_curve_mimic100 = mlrose_hiive.mimic(problem_no_fit, pop_size=100, keep_pct=0.2, max_attempts=100,\n",
    "                                                                   max_iters=5000, curve=True, random_state=1111)\n",
    "best_state_mimic200, best_fitness_mimic200, fitness_curve_mimic200 = mlrose_hiive.mimic(problem_no_fit, pop_size=200, keep_pct=0.2, max_attempts=100,\n",
    "                                                                   max_iters=5000, curve=True, random_state=2222)\n",
    "best_state_mimic300, best_fitness_mimic300, fitness_curve_mimic300 = mlrose_hiive.mimic(problem_no_fit, pop_size=300, keep_pct=0.2, max_attempts=100,\n",
    "                                                                   max_iters=5000, curve=True, random_state=3333)\n",
    "best_state_mimic400, best_fitness_mimic400, fitness_curve_mimic400 = mlrose_hiive.mimic(problem_no_fit, pop_size=400, keep_pct=0.2, max_attempts=100,\n",
    "                                                                   max_iters=5000, curve=True, random_state=4444)\n",
    "best_state_mimic500, best_fitness_mimic500, fitness_curve_mimic500 = mlrose_hiive.mimic(problem_no_fit, pop_size=500, keep_pct=0.2, max_attempts=100,\n",
    "                                                                   max_iters=5000, curve=True, random_state=5555)"
   ]
  },
  {
   "cell_type": "code",
   "execution_count": null,
   "id": "0a86cfca",
   "metadata": {
    "pycharm": {
     "is_executing": true
    }
   },
   "outputs": [],
   "source": [
    "best_state_mimic600, best_fitness_mimic600, fitness_curve_mimic600 = mlrose_hiive.mimic(problem_no_fit, pop_size=600, keep_pct=0.2, max_attempts=100,\n",
    "                                                                   max_iters=5000, curve=True, random_state=6666)"
   ]
  },
  {
   "cell_type": "code",
   "execution_count": null,
   "id": "61324a3b",
   "metadata": {
    "pycharm": {
     "is_executing": true
    }
   },
   "outputs": [],
   "source": [
    "best_state_mimic1000, best_fitness_mimic1000, fitness_curve_mimic1000 = mlrose_hiive.mimic(problem_no_fit, pop_size=1000, keep_pct=0.2, max_attempts=100,\n",
    "                                                                   max_iters=5000, curve=True, random_state=7777)"
   ]
  },
  {
   "cell_type": "code",
   "execution_count": null,
   "id": "8b29058e",
   "metadata": {
    "pycharm": {
     "is_executing": true
    }
   },
   "outputs": [],
   "source": [
    "fig, ax = plt.subplots()  # Create a figure and an axes.\n",
    "ax.plot(range(0,len(list(fitness_curve_mimic100))),fitness_curve_mimic100[...,0],'-',label='pop_size = 100')  # ... and some more.\n",
    "ax.plot(range(0,len(list(fitness_curve_mimic200))),fitness_curve_mimic200[...,0],'-',label='pop_size = 200')  # Plot some data on the axes.\n",
    "ax.plot(range(0,len(list(fitness_curve_mimic300))),fitness_curve_mimic300[...,0],'-',label='pop_size = 300')  # Plot some data on the axes.\n",
    "ax.plot(range(0,len(list(fitness_curve_mimic400))),fitness_curve_mimic400[...,0],'-',label='pop_size = 400')  # Plot some data on the axes.\n",
    "ax.plot(range(0,len(list(fitness_curve_mimic500))),fitness_curve_mimic500[...,0],'-',label='pop_size = 500')  # Plot some data on the axes.\n",
    "ax.plot(range(0,len(list(fitness_curve_mimic600))),fitness_curve_mimic600[...,0],'-',label='pop_size = 600')  # Plot some data on the axes.\n",
    "ax.plot(range(0,len(list(fitness_curve_mimic1000))),fitness_curve_mimic1000[...,0],'-',label='pop_size = 1000')  # Plot some data on the axes.\n",
    "\n",
    "ax.set_xlabel('Iterations')  # Add an x-label to the axes.\n",
    "ax.set_ylabel('Fitness')  # Add a y-label to the axes.\n",
    "ax.set_title(\"Continuous Peaks: MIMIC behaviour with different population\")  # Add a title to the axes.\n",
    "ax.legend()  # Add a legend."
   ]
  },
  {
   "cell_type": "code",
   "execution_count": null,
   "id": "562349d9",
   "metadata": {
    "pycharm": {
     "is_executing": true
    }
   },
   "outputs": [],
   "source": [
    "print(best_fitness_mimic100)\n",
    "print(best_fitness_mimic200)\n",
    "print(best_fitness_mimic300)\n",
    "print(best_fitness_mimic400)\n",
    "print(best_fitness_mimic500)\n",
    "print(best_fitness_mimic600)\n",
    "print(best_fitness_mimic1000)"
   ]
  },
  {
   "cell_type": "code",
   "execution_count": null,
   "id": "d6c32c05",
   "metadata": {
    "pycharm": {
     "is_executing": true
    }
   },
   "outputs": [],
   "source": [
    "startMIMIC = time.time()\n",
    "\n",
    "best_state_mimic_best, best_fitness_mimic_best, fitness_curve_mimic_best = mlrose_hiive.mimic(problem_no_fit, pop_size=1000, keep_pct=0.2, max_attempts=100,\n",
    "                                                                   max_iters=5000, curve=True, random_state=7777)\n",
    "endMIMIC = time.time()\n",
    "MIMICtime = endMIMIC - startMIMIC\n",
    "print(MIMICtime)\n",
    "print(best_fitness_mimic_best)"
   ]
  },
  {
   "cell_type": "markdown",
   "id": "a9769690",
   "metadata": {},
   "source": [
    "# Conclusion"
   ]
  },
  {
   "cell_type": "code",
   "execution_count": null,
   "id": "b5053376",
   "metadata": {
    "pycharm": {
     "is_executing": true
    }
   },
   "outputs": [],
   "source": [
    "print(best_fitness_RHC_best)\n",
    "print(best_state_SA_best)\n",
    "print(best_fitness_GA_best)\n",
    "print(best_fitness_mimic_best)"
   ]
  },
  {
   "cell_type": "code",
   "execution_count": null,
   "id": "429d4bf2",
   "metadata": {
    "pycharm": {
     "is_executing": true
    }
   },
   "outputs": [],
   "source": [
    "fig, ax = plt.subplots()  # Create a figure and an axes.\n",
    "ax.plot(range(0,len(list(fitness_curve_RHC_best))),fitness_curve_RHC_best[...,0],'-',label='HC')  # Plot some data on the axes.\n",
    "ax.plot(range(0,len(list(fitness_curve_SA_best))),fitness_curve_SA_best[...,0],'-',label='SA')  # Plot more data on the axes...\n",
    "ax.plot(range(0,len(list(fitness_curve_GA_best))),fitness_curve_GA_best[...,0],'-',label='GA')  # ... and some more.\n",
    "ax.plot(range(0,len(list(fitness_curve_mimic_best))),fitness_curve_mimic_best[...,0],'-',label='MIMIC')\n",
    "ax.set_xlabel('Iterations')  # Add an x-label to the axes.\n",
    "ax.set_ylabel('Fitness')  # Add a y-label to the axes.\n",
    "ax.set_title(\"Continuous peaks fitness curves using 4 algorithms\")  # Add a title to the axes.\n",
    "ax.legend()  # Add a legend."
   ]
  },
  {
   "cell_type": "code",
   "execution_count": null,
   "id": "c249d0ac",
   "metadata": {
    "pycharm": {
     "is_executing": true
    }
   },
   "outputs": [],
   "source": [
    "print(RHCtime)\n",
    "print(SAtime)\n",
    "print(GAtime)\n",
    "print(MIMICtime)"
   ]
  },
  {
   "cell_type": "code",
   "execution_count": null,
   "id": "256f5adf",
   "metadata": {
    "pycharm": {
     "is_executing": true
    }
   },
   "outputs": [],
   "source": [
    "runtime_list = [RHCtime,SAtime,GAtime,MIMICtime]\n",
    "print(runtime_list)\n",
    "names = [\"RHC\", \"SA\",\"GA\",\"MIMIC\"]\n",
    "print(names)"
   ]
  },
  {
   "cell_type": "code",
   "execution_count": null,
   "id": "9fb93831",
   "metadata": {
    "pycharm": {
     "is_executing": true
    }
   },
   "outputs": [],
   "source": [
    "fig = plt.figure(figsize = (8, 5))\n",
    " \n",
    "# creating the bar plot\n",
    "plt.bar(names,runtime_list, width = 0.4)\n",
    "plt.ylabel(\"Seconds\")\n",
    "plt.title(\"Running Time\")\n",
    "plt.show()"
   ]
  },
  {
   "cell_type": "code",
   "execution_count": null,
   "id": "3bf0f0f6",
   "metadata": {
    "pycharm": {
     "is_executing": true
    }
   },
   "outputs": [],
   "source": []
  },
  {
   "cell_type": "code",
   "execution_count": null,
   "id": "daa3582f",
   "metadata": {
    "pycharm": {
     "is_executing": true
    }
   },
   "outputs": [],
   "source": []
  },
  {
   "cell_type": "code",
   "execution_count": null,
   "id": "9108bd74",
   "metadata": {
    "pycharm": {
     "is_executing": true
    }
   },
   "outputs": [],
   "source": []
  },
  {
   "cell_type": "code",
   "execution_count": null,
   "id": "41b62f0a",
   "metadata": {
    "pycharm": {
     "is_executing": true
    }
   },
   "outputs": [],
   "source": []
  },
  {
   "cell_type": "code",
   "execution_count": null,
   "id": "4da054bd",
   "metadata": {
    "pycharm": {
     "is_executing": true
    }
   },
   "outputs": [],
   "source": []
  },
  {
   "cell_type": "code",
   "execution_count": null,
   "id": "b6e7c772",
   "metadata": {
    "pycharm": {
     "is_executing": true
    }
   },
   "outputs": [],
   "source": []
  },
  {
   "cell_type": "code",
   "execution_count": null,
   "outputs": [],
   "source": [],
   "metadata": {
    "collapsed": false,
    "pycharm": {
     "name": "#%%\n"
    }
   }
  }
 ],
 "metadata": {
  "kernelspec": {
   "display_name": "Python 3 (ipykernel)",
   "language": "python",
   "name": "python3"
  },
  "language_info": {
   "codemirror_mode": {
    "name": "ipython",
    "version": 3
   },
   "file_extension": ".py",
   "mimetype": "text/x-python",
   "name": "python",
   "nbconvert_exporter": "python",
   "pygments_lexer": "ipython3",
   "version": "3.9.7"
  }
 },
 "nbformat": 4,
 "nbformat_minor": 5
}