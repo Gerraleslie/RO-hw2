{
 "cells": [
  {
   "cell_type": "code",
   "execution_count": 1,
   "id": "ab04da0f",
   "metadata": {},
   "outputs": [],
   "source": [
    "from sklearn.preprocessing import MinMaxScaler, OneHotEncoder\n",
    "import numpy as np\n",
    "import pandas as pd\n",
    "import matplotlib.pyplot as plt\n",
    "import mlrose_hiive\n",
    "from sklearn.datasets import load_breast_cancer \n",
    "from sklearn.metrics import accuracy_score\n",
    "from sklearn.model_selection import cross_val_score, ShuffleSplit, GridSearchCV, RandomizedSearchCV, train_test_split, learning_curve, ShuffleSplit"
   ]
  },
  {
   "cell_type": "code",
   "execution_count": 2,
   "id": "f2d2e977",
   "metadata": {},
   "outputs": [],
   "source": [
    "dataset = load_breast_cancer() \n"
   ]
  },
  {
   "cell_type": "code",
   "execution_count": 3,
   "id": "4115f10b",
   "metadata": {},
   "outputs": [],
   "source": [
    "(X_train, X_test, y_train, y_test) = train_test_split(dataset.data, dataset.target, random_state=3, test_size=0.25)"
   ]
  },
  {
   "cell_type": "code",
   "execution_count": 4,
   "id": "88fd4d27",
   "metadata": {},
   "outputs": [],
   "source": [
    "# Normalize feature data\n",
    "scaler = MinMaxScaler()\n",
    "\n",
    "X_train_scaled = scaler.fit_transform(X_train)\n",
    "X_test_scaled = scaler.transform(X_test)"
   ]
  },
  {
   "cell_type": "markdown",
   "id": "560a4223",
   "metadata": {},
   "source": [
    "# random_hill_climb"
   ]
  },
  {
   "cell_type": "code",
   "execution_count": null,
   "id": "0c615a8f",
   "metadata": {
    "pycharm": {
     "is_executing": true
    }
   },
   "outputs": [],
   "source": [
    "# Initialize neural network object and fit object - attempt 1\n",
    "nn_model_r0 = mlrose_hiive.NeuralNetwork(hidden_nodes = [40, 30, 10], activation ='relu', \n",
    "                                 algorithm ='random_hill_climb', \n",
    "                                 max_iters = 3000, bias = True, is_classifier = True, \n",
    "                                 learning_rate = 0.1, restarts = 0, early_stopping = True, curve=True,\n",
    "                                 clip_max = 5, max_attempts = 100, random_state = 3,)\n",
    "\n",
    "nn_model_r0.fit(X_train_scaled, y_train)"
   ]
  },
  {
   "cell_type": "code",
   "execution_count": null,
   "id": "18f8b40b",
   "metadata": {
    "pycharm": {
     "is_executing": true
    }
   },
   "outputs": [],
   "source": [
    "y_train_pred_r0 = nn_model_r0.predict(X_train_scaled)\n",
    "\n",
    "y_train_accuracy_r0 = accuracy_score(y_train, y_train_pred_r0)\n",
    "\n",
    "print(y_train_accuracy_r0)"
   ]
  },
  {
   "cell_type": "code",
   "execution_count": null,
   "id": "b5309686",
   "metadata": {
    "pycharm": {
     "is_executing": true
    }
   },
   "outputs": [],
   "source": [
    "# Predict labels for test set and assess accuracy\n",
    "y_test_pred_r0 = nn_model_r0.predict(X_test_scaled)\n",
    "\n",
    "y_test_accuracy_r0 = accuracy_score(y_test, y_test_pred_r0)\n",
    "\n",
    "print(y_test_accuracy_r0)"
   ]
  },
  {
   "cell_type": "code",
   "execution_count": null,
   "id": "95ced6d1",
   "metadata": {
    "pycharm": {
     "is_executing": true
    }
   },
   "outputs": [],
   "source": [
    "nn_model_r5 = mlrose_hiive.NeuralNetwork(hidden_nodes = [40, 30, 10], activation ='relu', \n",
    "                                 algorithm ='random_hill_climb', \n",
    "                                 max_iters = 3000, bias = True, is_classifier = True, \n",
    "                                 learning_rate = 0.1, restarts = 5, early_stopping = True, curve=True,\n",
    "                                 clip_max = 5, max_attempts = 100, random_state = 3)\n",
    "nn_model_r5.fit(X_train_scaled, y_train)"
   ]
  },
  {
   "cell_type": "code",
   "execution_count": null,
   "id": "d48ea6e9",
   "metadata": {
    "pycharm": {
     "is_executing": true
    }
   },
   "outputs": [],
   "source": [
    "y_train_pred_r5 = nn_model_r5.predict(X_train_scaled)\n",
    "\n",
    "y_train_accuracy_r5 = accuracy_score(y_train, y_train_pred_r5)\n",
    "\n",
    "print(y_train_accuracy_r5)"
   ]
  },
  {
   "cell_type": "code",
   "execution_count": null,
   "id": "f7f8b83b",
   "metadata": {
    "pycharm": {
     "is_executing": true
    }
   },
   "outputs": [],
   "source": [
    "# Predict labels for test set and assess accuracy\n",
    "y_test_pred_r5 = nn_model_r5.predict(X_test_scaled)\n",
    "\n",
    "y_test_accuracy_r5 = accuracy_score(y_test, y_test_pred_r5)\n",
    "\n",
    "print(y_test_accuracy_r5)"
   ]
  },
  {
   "cell_type": "code",
   "execution_count": null,
   "id": "0c68f204",
   "metadata": {
    "pycharm": {
     "is_executing": true
    }
   },
   "outputs": [],
   "source": [
    "nn_model_r10 = mlrose_hiive.NeuralNetwork(hidden_nodes = [40, 30, 10], activation ='relu', \n",
    "                                 algorithm ='random_hill_climb', \n",
    "                                 max_iters = 3000, bias = True, is_classifier = True, \n",
    "                                 learning_rate = 0.1, restarts = 10, early_stopping = True, curve=True,\n",
    "                                 clip_max = 5, max_attempts = 100, random_state = 3)\n",
    "nn_model_r10.fit(X_train_scaled, y_train)"
   ]
  },
  {
   "cell_type": "code",
   "execution_count": null,
   "id": "2aadc58b",
   "metadata": {
    "pycharm": {
     "is_executing": true
    }
   },
   "outputs": [],
   "source": [
    "y_train_pred_r10 = nn_model_r10.predict(X_train_scaled)\n",
    "\n",
    "y_train_accuracy_r10 = accuracy_score(y_train, y_train_pred_r10)\n",
    "\n",
    "print(y_train_accuracy_r10)"
   ]
  },
  {
   "cell_type": "code",
   "execution_count": null,
   "id": "e1e9763b",
   "metadata": {
    "pycharm": {
     "is_executing": true
    }
   },
   "outputs": [],
   "source": [
    "# Predict labels for test set and assess accuracy\n",
    "y_test_pred_r10 = nn_model_r10.predict(X_test_scaled)\n",
    "y_test_accuracy_r10 = accuracy_score(y_test, y_test_pred_r10)\n",
    "\n",
    "print(y_test_accuracy_r10)"
   ]
  },
  {
   "cell_type": "code",
   "execution_count": null,
   "id": "25247f65",
   "metadata": {
    "pycharm": {
     "is_executing": true
    }
   },
   "outputs": [],
   "source": [
    "fig, ax = plt.subplots()  # Create a figure and an axes.\n",
    "ax.plot(range(0,len(list(nn_model_r0.fitness_curve))),nn_model_r0.fitness_curve[...,0],'-',label='RHC restarts=0')  # Plot some data on the axes.\n",
    "ax.plot(range(0,len(list(nn_model_r5.fitness_curve))),nn_model_r5.fitness_curve[...,0],'-',label='RHC restarts=5')  # Plot more data on the axes...\n",
    "ax.plot(range(0,len(list(nn_model_r10.fitness_curve))),nn_model_r10.fitness_curve[...,0],'-',label='RHC restarts=10') # ... and some more.\n",
    "#ax.plot(range(0,len(list(nn_model4.fitness_curve))),nn_model4.fitness_curve,'-',label='Gradient Descent')\n",
    "ax.set_xlabel('Iterations')  # Add an x-label to the axes.\n",
    "ax.set_ylabel('Loss')  # Add a y-label to the axes.\n",
    "ax.set_title(\"RHC loss curve on different restarts\")  # Add a title to the axes.\n",
    "ax.legend()  # Add a legend."
   ]
  },
  {
   "cell_type": "code",
   "execution_count": null,
   "id": "0180334c",
   "metadata": {
    "pycharm": {
     "is_executing": true
    }
   },
   "outputs": [],
   "source": [
    "cv_method = ShuffleSplit(n_splits=4,test_size=0.2,random_state=6666)\n",
    "# # Calculate the training and testing scores\n",
    "# train_scores, test_scores = validation_curve(nn_model1, X_train_scaled, y_train_hot, cv = cv)\n",
    "\n",
    "# learning curve\n",
    "train_sizes, train_scores, test_scores = learning_curve(nn_model_r5 , X_train_scaled, y_train,cv=cv_method)\n",
    "\n",
    "#fit_times_mean = np.mean(fit_times,axis = 1)\n",
    "#fit_times_std = np.std(fit_times,axis = 1)\n",
    "train_scores_mean = np.mean(train_scores, axis=1)\n",
    "train_scores_std = np.std(train_scores, axis=1)\n",
    "test_scores_mean = np.mean(test_scores, axis=1)\n",
    "test_scores_std = np.std(test_scores, axis=1)\n",
    "\n",
    "plt.grid()\n",
    "\n",
    "plt.fill_between(train_sizes, train_scores_mean - train_scores_std,\n",
    "                     train_scores_mean + train_scores_std, alpha=0.1,\n",
    "                     color=\"r\")\n",
    "plt.fill_between(train_sizes, test_scores_mean - test_scores_std,\n",
    "                     test_scores_mean + test_scores_std, alpha=0.1, color=\"g\")\n",
    "plt.plot(train_sizes, train_scores_mean, 'o-', color=\"r\",\n",
    "             label=\"Training score\")\n",
    "plt.plot(train_sizes, test_scores_mean, 'o-', color=\"g\",\n",
    "             label=\"Cross-validation score\")\n",
    "plt.legend(loc=\"best\")\n",
    "plt.xlabel(\"Training examples\")\n",
    "plt.ylabel(\"Score\")\n",
    "plt.title(\"Learning curve for NN using RHC\")"
   ]
  },
  {
   "cell_type": "markdown",
   "id": "cbb806f1",
   "metadata": {},
   "source": [
    "# Simulated Annealing"
   ]
  },
  {
   "cell_type": "code",
   "execution_count": null,
   "id": "54aae873",
   "metadata": {
    "pycharm": {
     "is_executing": true
    }
   },
   "outputs": [],
   "source": [
    "Schedules = mlrose_hiive.GeomDecay(init_temp=1.0, decay=0.1, min_temp=0.01)\n",
    "nn_modelSA_decay1 = mlrose_hiive.NeuralNetwork(hidden_nodes = [40, 30, 10], activation ='relu', \n",
    "                                 algorithm ='simulated_annealing', schedule = Schedules,\n",
    "                                 max_iters = 3000, bias = True, is_classifier = True, \n",
    "                                 learning_rate = 0.1, early_stopping = True, curve=True,\n",
    "                                 clip_max = 5, max_attempts = 100, random_state = 1243)\n",
    "\n",
    "nn_modelSA_decay1.fit(X_train_scaled, y_train)"
   ]
  },
  {
   "cell_type": "code",
   "execution_count": null,
   "id": "5d221af2",
   "metadata": {
    "pycharm": {
     "is_executing": true
    }
   },
   "outputs": [],
   "source": [
    "y_train_pred_decay1 = nn_modelSA_decay1.predict(X_train_scaled)\n",
    "\n",
    "y_train_accuracy_decay1 = accuracy_score(y_train, y_train_pred_decay1)\n",
    "\n",
    "print(y_train_accuracy_decay1)"
   ]
  },
  {
   "cell_type": "code",
   "execution_count": null,
   "id": "51d02f77",
   "metadata": {
    "pycharm": {
     "is_executing": true
    }
   },
   "outputs": [],
   "source": [
    "# Predict labels for test set and assess accuracy\n",
    "y_test_pred_decay1 = nn_modelSA_decay1.predict(X_test_scaled)\n",
    "\n",
    "y_test_accuracy_decay1 = accuracy_score(y_test, y_test_pred_decay1)\n",
    "\n",
    "print(y_test_accuracy_decay1)"
   ]
  },
  {
   "cell_type": "code",
   "execution_count": null,
   "id": "2665409d",
   "metadata": {
    "pycharm": {
     "is_executing": true
    }
   },
   "outputs": [],
   "source": [
    "Schedules = mlrose_hiive.GeomDecay(init_temp=1.0, decay=0.5, min_temp=0.01)\n",
    "nn_modelSA_decay5 = mlrose_hiive.NeuralNetwork(hidden_nodes = [40, 30, 10], activation ='relu', \n",
    "                                 algorithm ='simulated_annealing', schedule = Schedules,\n",
    "                                 max_iters = 3000, bias = True, is_classifier = True, \n",
    "                                 learning_rate = 0.1, early_stopping = True, curve=True,\n",
    "                                 clip_max = 5, max_attempts = 100, random_state = 13324)\n",
    "\n",
    "nn_modelSA_decay5.fit(X_train_scaled, y_train)"
   ]
  },
  {
   "cell_type": "code",
   "execution_count": null,
   "id": "e2d6c8ee",
   "metadata": {
    "pycharm": {
     "is_executing": true
    }
   },
   "outputs": [],
   "source": [
    "y_train_pred_decay5 = nn_modelSA_decay5.predict(X_train_scaled)\n",
    "\n",
    "y_train_accuracy_decay5 = accuracy_score(y_train, y_train_pred_decay5)\n",
    "\n",
    "print(y_train_accuracy_decay5)"
   ]
  },
  {
   "cell_type": "code",
   "execution_count": null,
   "id": "c5635ea1",
   "metadata": {
    "pycharm": {
     "is_executing": true
    }
   },
   "outputs": [],
   "source": [
    "# Predict labels for test set and assess accuracy\n",
    "y_test_pred_decay5 = nn_modelSA_decay5.predict(X_test_scaled)\n",
    "\n",
    "y_test_accuracy_decay5 = accuracy_score(y_test, y_test_pred_decay5)\n",
    "\n",
    "print(y_test_accuracy_decay5)"
   ]
  },
  {
   "cell_type": "code",
   "execution_count": null,
   "id": "2bdae2d9",
   "metadata": {
    "pycharm": {
     "is_executing": true
    }
   },
   "outputs": [],
   "source": [
    "Schedules = mlrose_hiive.GeomDecay(init_temp=1.0, decay=0.95, min_temp=0.01)\n",
    "nn_modelSA_decay95 = mlrose_hiive.NeuralNetwork(hidden_nodes = [40, 30, 10], activation ='relu', \n",
    "                                 algorithm ='simulated_annealing', schedule = Schedules,\n",
    "                                 max_iters = 3000, bias = True, is_classifier = True, \n",
    "                                 learning_rate = 0.1, early_stopping = True, curve=True,\n",
    "                                 clip_max = 5, max_attempts = 100, random_state = 1234)\n",
    "\n",
    "nn_modelSA_decay95.fit(X_train_scaled, y_train)"
   ]
  },
  {
   "cell_type": "code",
   "execution_count": null,
   "id": "701c57cb",
   "metadata": {
    "pycharm": {
     "is_executing": true
    }
   },
   "outputs": [],
   "source": [
    "y_train_pred_decay95 = nn_modelSA_decay95.predict(X_train_scaled)\n",
    "\n",
    "y_train_accuracy_decay95 = accuracy_score(y_train, y_train_pred_decay95)\n",
    "\n",
    "print(y_train_accuracy_decay95)"
   ]
  },
  {
   "cell_type": "code",
   "execution_count": null,
   "id": "567485dc",
   "metadata": {
    "pycharm": {
     "is_executing": true
    }
   },
   "outputs": [],
   "source": [
    "# Predict labels for test set and assess accuracy\n",
    "y_test_pred_decay95 = nn_modelSA_decay95.predict(X_test_scaled)\n",
    "\n",
    "y_test_accuracy_decay95 = accuracy_score(y_test, y_test_pred_decay95)\n",
    "\n",
    "print(y_test_accuracy_decay95)"
   ]
  },
  {
   "cell_type": "code",
   "execution_count": null,
   "id": "e2703569",
   "metadata": {
    "pycharm": {
     "is_executing": true
    }
   },
   "outputs": [],
   "source": [
    "fig, ax = plt.subplots()  # Create a figure and an axes.\n",
    "#ax.plot(range(0,len(list(nn_model1.fitness_curve))),nn_model1.fitness_curve[...,0],'-',label='RHC')  # Plot some data on the axes.\n",
    "ax.plot(range(0,len(list(nn_modelSA_decay1.fitness_curve))),nn_modelSA_decay1.fitness_curve[...,0],'-',label='SA decay = 0.1')  # Plot more data on the axes...\n",
    "ax.plot(range(0,len(list(nn_modelSA_decay5.fitness_curve))),nn_modelSA_decay5.fitness_curve[...,0],'-',label='SA decay = 0.5') # ... and some more.\n",
    "ax.plot(range(0,len(list(nn_modelSA_decay95.fitness_curve))),nn_modelSA_decay95.fitness_curve[...,0],'-',label='SA decay = 0.95')\n",
    "ax.set_xlabel('Iterations')  # Add an x-label to the axes.\n",
    "ax.set_ylabel('Loss')  # Add a y-label to the axes.\n",
    "ax.set_title(\"SA loss curve with different decay\")  # Add a title to the axes.\n",
    "ax.legend()  # Add a legend."
   ]
  },
  {
   "cell_type": "code",
   "execution_count": null,
   "id": "2f5d2dd6",
   "metadata": {
    "pycharm": {
     "is_executing": true
    }
   },
   "outputs": [],
   "source": [
    "Schedules = mlrose_hiive.GeomDecay(init_temp=1, decay=0.95, min_temp=0.001)\n",
    "nn_modelSA_temp10 = mlrose_hiive.NeuralNetwork(hidden_nodes = [40, 30, 10], activation ='relu', \n",
    "                                 algorithm ='simulated_annealing', schedule = Schedules,\n",
    "                                 max_iters = 3000, bias = True, is_classifier = True, \n",
    "                                 learning_rate = 0.1, early_stopping = True, curve=True,\n",
    "                                 clip_max = 5, max_attempts = 100, random_state = 220)\n",
    "\n",
    "nn_modelSA_temp10.fit(X_train_scaled, y_train)"
   ]
  },
  {
   "cell_type": "code",
   "execution_count": null,
   "id": "d9d19945",
   "metadata": {
    "pycharm": {
     "is_executing": true
    }
   },
   "outputs": [],
   "source": [
    "y_train_pred_temp10 = nn_modelSA_temp10.predict(X_train_scaled)\n",
    "\n",
    "y_train_accuracy_temp10 = accuracy_score(y_train, y_train_pred_temp10)\n",
    "\n",
    "print(y_train_accuracy_temp10)"
   ]
  },
  {
   "cell_type": "code",
   "execution_count": 39,
   "id": "c00f9730",
   "metadata": {},
   "outputs": [
    {
     "name": "stdout",
     "output_type": "stream",
     "text": [
      "0.8601398601398601\n"
     ]
    }
   ],
   "source": [
    "# Predict labels for test set and assess accuracy\n",
    "y_test_pred_temp10 = nn_modelSA_temp10.predict(X_test_scaled)\n",
    "\n",
    "y_test_accuracy_temp10 = accuracy_score(y_test, y_test_pred_temp10)\n",
    "\n",
    "print(y_test_accuracy_temp10)\n"
   ]
  },
  {
   "cell_type": "code",
   "execution_count": 40,
   "id": "985e67ea",
   "metadata": {},
   "outputs": [
    {
     "data": {
      "text/plain": [
       "NeuralNetwork(algorithm='simulated_annealing', clip_max=5, curve=True,\n",
       "              early_stopping=True, hidden_nodes=[40, 30, 10], max_attempts=100,\n",
       "              max_iters=3000, random_state=221,\n",
       "              schedule=GeomDecay(init_temp=0.5, decay=0.95, min_temp=0.001))"
      ]
     },
     "execution_count": 40,
     "metadata": {},
     "output_type": "execute_result"
    }
   ],
   "source": [
    "Schedules = mlrose_hiive.GeomDecay(init_temp=0.5, decay=0.95, min_temp=0.001)\n",
    "nn_modelSA_temp5 = mlrose_hiive.NeuralNetwork(hidden_nodes = [40, 30, 10], activation ='relu', \n",
    "                                 algorithm ='simulated_annealing', schedule = Schedules,\n",
    "                                 max_iters = 3000, bias = True, is_classifier = True, \n",
    "                                 learning_rate = 0.1, early_stopping = True, curve=True,\n",
    "                                 clip_max = 5, max_attempts = 100, random_state = 221)\n",
    "\n",
    "nn_modelSA_temp5.fit(X_train_scaled, y_train)"
   ]
  },
  {
   "cell_type": "code",
   "execution_count": 62,
   "id": "1bd4c890",
   "metadata": {},
   "outputs": [
    {
     "name": "stdout",
     "output_type": "stream",
     "text": [
      "0.9389671361502347\n",
      "0.958041958041958\n"
     ]
    }
   ],
   "source": [
    "y_train_pred_temp5 = nn_modelSA_temp5.predict(X_train_scaled)\n",
    "\n",
    "y_train_accuracy_temp5 = accuracy_score(y_train, y_train_pred_temp5)\n",
    "\n",
    "print(y_train_accuracy_temp5)\n",
    "# Predict labels for test set and assess accuracy\n",
    "y_test_pred_temp5 = nn_modelSA_temp5.predict(X_test_scaled)\n",
    "\n",
    "y_test_accuracy_temp5 = accuracy_score(y_test, y_test_pred_temp5)\n",
    "\n",
    "print(y_test_accuracy_temp5)"
   ]
  },
  {
   "cell_type": "code",
   "execution_count": 43,
   "id": "5bc330c4",
   "metadata": {},
   "outputs": [
    {
     "name": "stdout",
     "output_type": "stream",
     "text": [
      "0.958041958041958\n"
     ]
    }
   ],
   "source": []
  },
  {
   "cell_type": "code",
   "execution_count": 44,
   "id": "040ffc8d",
   "metadata": {},
   "outputs": [
    {
     "data": {
      "text/plain": [
       "NeuralNetwork(algorithm='simulated_annealing', clip_max=5, curve=True,\n",
       "              early_stopping=True, hidden_nodes=[40, 30, 10], max_attempts=100,\n",
       "              max_iters=3000, random_state=222,\n",
       "              schedule=GeomDecay(init_temp=2, decay=0.5, min_temp=0.001))"
      ]
     },
     "execution_count": 44,
     "metadata": {},
     "output_type": "execute_result"
    }
   ],
   "source": [
    "Schedules = mlrose_hiive.GeomDecay(init_temp=2, decay=0.5, min_temp=0.001)\n",
    "nn_modelSA_temp20 = mlrose_hiive.NeuralNetwork(hidden_nodes = [40, 30, 10], activation ='relu', \n",
    "                                 algorithm ='simulated_annealing', schedule = Schedules,\n",
    "                                 max_iters = 3000, bias = True, is_classifier = True, \n",
    "                                 learning_rate = 0.1, early_stopping = True, curve=True,\n",
    "                                 clip_max = 5, max_attempts = 100, random_state = 222)\n",
    "\n",
    "nn_modelSA_temp20.fit(X_train_scaled, y_train)"
   ]
  },
  {
   "cell_type": "code",
   "execution_count": 61,
   "id": "02844beb",
   "metadata": {},
   "outputs": [
    {
     "name": "stdout",
     "output_type": "stream",
     "text": [
      "0.4084507042253521\n",
      "0.40559440559440557\n"
     ]
    }
   ],
   "source": [
    "y_train_pred_temp20 = nn_modelSA_temp20.predict(X_train_scaled)\n",
    "\n",
    "y_train_accuracy_temp20 = accuracy_score(y_train, y_train_pred_temp20)\n",
    "\n",
    "print(y_train_accuracy_temp20)\n",
    "# Predict labels for test set and assess accuracy\n",
    "y_test_pred_temp20 = nn_modelSA_temp20.predict(X_test_scaled)\n",
    "\n",
    "y_test_accuracy_temp20 = accuracy_score(y_test, y_test_pred_temp20)\n",
    "\n",
    "print(y_test_accuracy_temp20)"
   ]
  },
  {
   "cell_type": "code",
   "execution_count": 48,
   "id": "133fba88",
   "metadata": {},
   "outputs": [
    {
     "data": {
      "text/plain": [
       "<matplotlib.legend.Legend at 0x2145670f0a0>"
      ]
     },
     "execution_count": 48,
     "metadata": {},
     "output_type": "execute_result"
    },
    {
     "data": {
      "image/png": "[encoded data removed]",
      "text/plain": [
       "<Figure size 432x288 with 1 Axes>"
      ]
     },
     "metadata": {
      "needs_background": "light"
     },
     "output_type": "display_data"
    }
   ],
   "source": [
    "fig, ax = plt.subplots()  # Create a figure and an axes.\n",
    "#ax.plot(range(0,len(list(nn_model1.fitness_curve))),nn_model1.fitness_curve[...,0],'-',label='RHC')  # Plot some data on the axes.\n",
    "ax.plot(range(0,len(list(nn_modelSA_temp5.fitness_curve))),nn_modelSA_temp5.fitness_curve[...,0],'-',label='SA temp = 0.5')  # Plot more data on the axes...\n",
    "ax.plot(range(0,len(list(nn_modelSA_temp10.fitness_curve))),nn_modelSA_temp10.fitness_curve[...,0],'-',label='SA temp = 1') # ... and some more.\n",
    "ax.plot(range(0,len(list(nn_modelSA_temp20.fitness_curve))),nn_modelSA_temp20.fitness_curve[...,0],'-',label='SA temp = 2')\n",
    "ax.set_xlabel('Iterations')  # Add an x-label to the axes.\n",
    "ax.set_ylabel('Fitness')  # Add a y-label to the axes.\n",
    "ax.set_title(\"SA fitness/loss curve with different decay\")  # Add a title to the axes.\n",
    "ax.legend()  # Add a legend."
   ]
  },
  {
   "cell_type": "code",
   "execution_count": 51,
   "id": "1e6257af",
   "metadata": {},
   "outputs": [
    {
     "data": {
      "text/plain": [
       "Text(0.5, 1.0, 'NN Learning Curve using SA')"
      ]
     },
     "execution_count": 51,
     "metadata": {},
     "output_type": "execute_result"
    },
    {
     "data": {
      "image/png": "[encoded data removed]",
      "text/plain": [
       "<Figure size 432x288 with 1 Axes>"
      ]
     },
     "metadata": {
      "needs_background": "light"
     },
     "output_type": "display_data"
    }
   ],
   "source": [
    "cv_method = ShuffleSplit(n_splits=4,test_size=0.2,random_state=6666)\n",
    "\n",
    "# learning curve\n",
    "train_sizes, train_scores, test_scores = learning_curve(nn_modelSA_temp5 , X_train_scaled, y_train, cv = cv_method)\n",
    "\n",
    "train_scores_mean = np.mean(train_scores, axis=1)\n",
    "train_scores_std = np.std(train_scores, axis=1)\n",
    "test_scores_mean = np.mean(test_scores, axis=1)\n",
    "test_scores_std = np.std(test_scores, axis=1)\n",
    "\n",
    "plt.grid()\n",
    "\n",
    "plt.fill_between(train_sizes, train_scores_mean - train_scores_std,\n",
    "                     train_scores_mean + train_scores_std, alpha=0.1,\n",
    "                     color=\"r\")\n",
    "plt.fill_between(train_sizes, test_scores_mean - test_scores_std,\n",
    "                     test_scores_mean + test_scores_std, alpha=0.1, color=\"g\")\n",
    "plt.plot(train_sizes, train_scores_mean, 'o-', color=\"r\",\n",
    "             label=\"Training score\")\n",
    "plt.plot(train_sizes, test_scores_mean, 'o-', color=\"g\",\n",
    "             label=\"Cross-validation score\")\n",
    "plt.legend(loc=\"best\")\n",
    "plt.xlabel(\"Training examples\")\n",
    "plt.ylabel(\"Score\")\n",
    "plt.title(\"NN Learning Curve using SA\")"
   ]
  },
  {
   "cell_type": "markdown",
   "id": "cd73e0b1",
   "metadata": {},
   "source": [
    "# Genetic"
   ]
  },
  {
   "cell_type": "code",
   "execution_count": 54,
   "id": "c07c392c",
   "metadata": {},
   "outputs": [
    {
     "data": {
      "text/plain": [
       "NeuralNetwork(algorithm='genetic_alg', clip_max=5, curve=True,\n",
       "              early_stopping=True, hidden_nodes=[40, 30, 10], max_attempts=100,\n",
       "              max_iters=3000, pop_size=100, random_state=5)"
      ]
     },
     "execution_count": 54,
     "metadata": {},
     "output_type": "execute_result"
    }
   ],
   "source": [
    "nn_modelGA_100 = mlrose_hiive.NeuralNetwork(hidden_nodes = [40, 30, 10], activation ='relu', \n",
    "                                 algorithm ='genetic_alg', pop_size = 100,\n",
    "                                 max_iters = 3000, bias = True, is_classifier = True, \n",
    "                                 learning_rate = 0.1, early_stopping = True, curve=True,\n",
    "                                 clip_max = 5, max_attempts = 100, random_state = 5)\n",
    "\n",
    "nn_modelGA_100.fit(X_train_scaled, y_train)"
   ]
  },
  {
   "cell_type": "code",
   "execution_count": 55,
   "id": "6948a239",
   "metadata": {},
   "outputs": [
    {
     "name": "stdout",
     "output_type": "stream",
     "text": [
      "0.9530516431924883\n",
      "0.9300699300699301\n"
     ]
    }
   ],
   "source": [
    "y_train_pred = nn_modelGA_100.predict(X_train_scaled)\n",
    "\n",
    "y_train_accuracy = accuracy_score(y_train, y_train_pred)\n",
    "\n",
    "print(y_train_accuracy)\n",
    "# Predict labels for test set and assess accuracy\n",
    "y_test_pred = nn_modelGA_100.predict(X_test_scaled)\n",
    "\n",
    "y_test_accuracy = accuracy_score(y_test, y_test_pred)\n",
    "\n",
    "print(y_test_accuracy)"
   ]
  },
  {
   "cell_type": "code",
   "execution_count": 56,
   "id": "73dab9c9",
   "metadata": {},
   "outputs": [
    {
     "data": {
      "text/plain": [
       "NeuralNetwork(algorithm='genetic_alg', clip_max=5, curve=True,\n",
       "              early_stopping=True, hidden_nodes=[40, 30, 10], max_attempts=100,\n",
       "              max_iters=3000, random_state=5)"
      ]
     },
     "execution_count": 56,
     "metadata": {},
     "output_type": "execute_result"
    }
   ],
   "source": [
    "nn_modelGA_200 = mlrose_hiive.NeuralNetwork(hidden_nodes = [40, 30, 10], activation ='relu', \n",
    "                                 algorithm ='genetic_alg', pop_size = 200,\n",
    "                                 max_iters = 3000, bias = True, is_classifier = True, \n",
    "                                 learning_rate = 0.1, early_stopping = True, curve=True,\n",
    "                                 clip_max = 5, max_attempts = 100, random_state = 5)\n",
    "\n",
    "nn_modelGA_200.fit(X_train_scaled, y_train)"
   ]
  },
  {
   "cell_type": "code",
   "execution_count": 58,
   "id": "d17d37ed",
   "metadata": {},
   "outputs": [
    {
     "name": "stdout",
     "output_type": "stream",
     "text": [
      "0.744131455399061\n",
      "0.8251748251748252\n"
     ]
    }
   ],
   "source": [
    "y_train_pred = nn_modelGA_200.predict(X_train_scaled)\n",
    "\n",
    "y_train_accuracy = accuracy_score(y_train, y_train_pred)\n",
    "\n",
    "print(y_train_accuracy)\n",
    "# Predict labels for test set and assess accuracy\n",
    "y_test_pred = nn_modelGA_200.predict(X_test_scaled)\n",
    "\n",
    "y_test_accuracy = accuracy_score(y_test, y_test_pred)\n",
    "\n",
    "print(y_test_accuracy)"
   ]
  },
  {
   "cell_type": "code",
   "execution_count": 59,
   "id": "cd4afc77",
   "metadata": {},
   "outputs": [
    {
     "data": {
      "text/plain": [
       "NeuralNetwork(algorithm='genetic_alg', clip_max=5, curve=True,\n",
       "              early_stopping=True, hidden_nodes=[40, 30, 10], max_attempts=100,\n",
       "              max_iters=3000, pop_size=300, random_state=5)"
      ]
     },
     "execution_count": 59,
     "metadata": {},
     "output_type": "execute_result"
    }
   ],
   "source": [
    "nn_modelGA_300 = mlrose_hiive.NeuralNetwork(hidden_nodes = [40, 30, 10], activation ='relu', \n",
    "                                 algorithm ='genetic_alg', pop_size = 300,\n",
    "                                 max_iters = 3000, bias = True, is_classifier = True, \n",
    "                                 learning_rate = 0.1, early_stopping = True, curve=True,\n",
    "                                 clip_max = 5, max_attempts = 100, random_state = 5)\n",
    "\n",
    "nn_modelGA_300.fit(X_train_scaled, y_train)"
   ]
  },
  {
   "cell_type": "code",
   "execution_count": 60,
   "id": "1dbab8cb",
   "metadata": {},
   "outputs": [
    {
     "name": "stdout",
     "output_type": "stream",
     "text": [
      "0.5563380281690141\n",
      "0.5944055944055944\n"
     ]
    }
   ],
   "source": [
    "y_train_pred = nn_modelGA_300.predict(X_train_scaled)\n",
    "\n",
    "y_train_accuracy = accuracy_score(y_train, y_train_pred)\n",
    "\n",
    "print(y_train_accuracy)\n",
    "# Predict labels for test set and assess accuracy\n",
    "y_test_pred = nn_modelGA_300.predict(X_test_scaled)\n",
    "\n",
    "y_test_accuracy = accuracy_score(y_test, y_test_pred)\n",
    "\n",
    "print(y_test_accuracy)"
   ]
  },
  {
   "cell_type": "code",
   "execution_count": 66,
   "id": "7930bab8",
   "metadata": {},
   "outputs": [
    {
     "data": {
      "text/plain": [
       "<matplotlib.legend.Legend at 0x2145679e760>"
      ]
     },
     "execution_count": 66,
     "metadata": {},
     "output_type": "execute_result"
    },
    {
     "data": {
      "image/png": "[encoded data removed]",
      "text/plain": [
       "<Figure size 432x288 with 1 Axes>"
      ]
     },
     "metadata": {
      "needs_background": "light"
     },
     "output_type": "display_data"
    }
   ],
   "source": [
    "fig, ax = plt.subplots()  # Create a figure and an axes.\n",
    "ax.plot(range(0,len(list(nn_modelGA_100.fitness_curve))),nn_modelGA_100.fitness_curve[...,0],'-',label='GA pop=200')  # Plot some data on the axes.\n",
    "ax.plot(range(0,len(list(nn_modelGA_200.fitness_curve))),nn_modelGA_200.fitness_curve[...,0],'-',label='GA pop=300')  # Plot more data on the axes...\n",
    "ax.plot(range(0,len(list(nn_modelGA_300.fitness_curve))),nn_modelGA_300.fitness_curve[...,0],'-',label='GA pop=100') # ... and some more.\n",
    "#ax.plot(range(0,len(list(nn_model3p100f.fitness_curve))),nn_model3p100f.fitness_curve[...,0],'-',label='Gradient Descent')\n",
    "ax.set_xlabel('Iterations')  # Add an x-label to the axes.\n",
    "ax.set_ylabel('Loss')  # Add a y-label to the axes.\n",
    "ax.set_title(\"GA loss curve on different population\")  # Add a title to the axes.\n",
    "ax.legend()  # Add a legend."
   ]
  },
  {
   "cell_type": "code",
   "execution_count": 67,
   "id": "dba482a0",
   "metadata": {},
   "outputs": [
    {
     "data": {
      "text/plain": [
       "Text(0.5, 1.0, 'NN Learning Curve using GA')"
      ]
     },
     "execution_count": 67,
     "metadata": {},
     "output_type": "execute_result"
    },
    {
     "data": {
      "image/png": "[encoded data removed]",
      "text/plain": [
       "<Figure size 432x288 with 1 Axes>"
      ]
     },
     "metadata": {
      "needs_background": "light"
     },
     "output_type": "display_data"
    }
   ],
   "source": [
    "cv = ShuffleSplit(n_splits=5,test_size=0.2,random_state=6666)\n",
    "# # Calculate the training and testing scores\n",
    "\n",
    "# learning curve\n",
    "train_sizes, train_scores, test_scores = learning_curve(nn_modelGA_100 , X_train_scaled, y_train, cv = cv_method)\n",
    "\n",
    "#fit_times_mean = np.mean(fit_times,axis = 1)\n",
    "#fit_times_std = np.std(fit_times,axis = 1)\n",
    "train_scores_mean = np.mean(train_scores, axis=1)\n",
    "train_scores_std = np.std(train_scores, axis=1)\n",
    "test_scores_mean = np.mean(test_scores, axis=1)\n",
    "test_scores_std = np.std(test_scores, axis=1)\n",
    "\n",
    "plt.grid()\n",
    "\n",
    "plt.fill_between(train_sizes, train_scores_mean - train_scores_std,\n",
    "                     train_scores_mean + train_scores_std, alpha=0.1,\n",
    "                     color=\"r\")\n",
    "plt.fill_between(train_sizes, test_scores_mean - test_scores_std,\n",
    "                     test_scores_mean + test_scores_std, alpha=0.1, color=\"g\")\n",
    "plt.plot(train_sizes, train_scores_mean, 'o-', color=\"r\",\n",
    "             label=\"Training score\")\n",
    "plt.plot(train_sizes, test_scores_mean, 'o-', color=\"g\",\n",
    "             label=\"Cross-validation score\")\n",
    "plt.legend(loc=\"best\")\n",
    "plt.xlabel(\"Training examples\")\n",
    "plt.ylabel(\"Score\")\n",
    "plt.title(\"NN Learning Curve using GA\")"
   ]
  },
  {
   "cell_type": "markdown",
   "id": "a6e73bc6",
   "metadata": {},
   "source": [
    "# Gradient Descent"
   ]
  },
  {
   "cell_type": "code",
   "execution_count": 69,
   "id": "bf74dd97",
   "metadata": {},
   "outputs": [
    {
     "data": {
      "text/plain": [
       "NeuralNetwork(algorithm='gradient_descent', clip_max=5, curve=True,\n",
       "              early_stopping=True, hidden_nodes=[15], learning_rate=0.0001,\n",
       "              max_attempts=100, max_iters=3000, random_state=3)"
      ]
     },
     "execution_count": 69,
     "metadata": {},
     "output_type": "execute_result"
    }
   ],
   "source": [
    "nn_modelGD = mlrose_hiive.NeuralNetwork(hidden_nodes = [15], activation ='relu', \n",
    "                                 algorithm ='gradient_descent', \n",
    "                                 max_iters = 3000, bias = True, is_classifier = True, \n",
    "                                 learning_rate = 0.0001, early_stopping = True, curve=True, \n",
    "                                 clip_max = 5, max_attempts = 100, random_state = 3)\n",
    "\n",
    "nn_modelGD.fit(X_train_scaled, y_train)"
   ]
  },
  {
   "cell_type": "code",
   "execution_count": 71,
   "id": "96ea1792",
   "metadata": {},
   "outputs": [
    {
     "name": "stdout",
     "output_type": "stream",
     "text": [
      "0.9835680751173709\n",
      "0.972027972027972\n"
     ]
    }
   ],
   "source": [
    "y_train_pred = nn_modelGD.predict(X_train_scaled)\n",
    "\n",
    "y_train_accuracy = accuracy_score(y_train, y_train_pred)\n",
    "\n",
    "print(y_train_accuracy)\n",
    "# Predict labels for test set and assess accuracy\n",
    "y_test_pred = nn_modelGD.predict(X_test_scaled)\n",
    "\n",
    "y_test_accuracy = accuracy_score(y_test, y_test_pred)\n",
    "\n",
    "print(y_test_accuracy)"
   ]
  },
  {
   "cell_type": "code",
   "execution_count": 73,
   "id": "a8970fe5",
   "metadata": {},
   "outputs": [
    {
     "data": {
      "text/plain": [
       "<matplotlib.legend.Legend at 0x21456c33940>"
      ]
     },
     "execution_count": 73,
     "metadata": {},
     "output_type": "execute_result"
    },
    {
     "data": {
      "image/png": "[encoded data removed]",
      "text/plain": [
       "<Figure size 432x288 with 1 Axes>"
      ]
     },
     "metadata": {
      "needs_background": "light"
     },
     "output_type": "display_data"
    }
   ],
   "source": [
    "fig, ax = plt.subplots()  # Create a figure and an axes.\n",
    "#ax.plot(range(0,len(list(nn_model1.fitness_curve))),nn_model1.fitness_curve[...,0],'-',label='RHC')  # Plot some data on the axes.\n",
    "#ax.plot(range(0,len(list(nn_model2.fitness_curve))),nn_model2.fitness_curve[...,0],'-',label='SA')  # Plot more data on the axes...\n",
    "#ax.plot(range(0,len(list(nn_model3.fitness_curve))),nn_model3.fitness_curve[...,0],'-',label='GA') # ... and some more.\n",
    "ax.plot(range(0,len(list(nn_modelGD.fitness_curve))),-nn_modelGD.fitness_curve,'-',label='Gradient Descent')\n",
    "ax.set_xlabel('Iterations')  # Add an x-label to the axes.\n",
    "ax.set_ylabel('Fitness')  # Add a y-label to the axes.\n",
    "ax.set_title(\"fitness/loss curve of Gradient Descent\")  # Add a title to the axes.\n",
    "ax.legend()  # Add a legend."
   ]
  },
  {
   "cell_type": "code",
   "execution_count": 84,
   "id": "2eaa9211",
   "metadata": {},
   "outputs": [
    {
     "data": {
      "text/plain": [
       "Text(0.5, 1.0, 'NN learning curve using Gradient Descent')"
      ]
     },
     "execution_count": 84,
     "metadata": {},
     "output_type": "execute_result"
    },
    {
     "data": {
      "image/png": "[encoded data removed]",
      "text/plain": [
       "<Figure size 432x288 with 1 Axes>"
      ]
     },
     "metadata": {
      "needs_background": "light"
     },
     "output_type": "display_data"
    }
   ],
   "source": [
    "cv_method = ShuffleSplit(n_splits=4,test_size=0.2,random_state=6666)\n",
    "# # Calculate the training and testing scores\n",
    "# train_scores, test_scores = validation_curve(nn_model1, X_train_scaled, y_train_hot, cv = cv)\n",
    "\n",
    "# learning curve\n",
    "train_sizes, train_scores, test_scores = learning_curve(nn_modelGD , X_train_scaled, y_train,cv=cv_method)\n",
    "\n",
    "#fit_times_mean = np.mean(fit_times,axis = 1)\n",
    "#fit_times_std = np.std(fit_times,axis = 1)\n",
    "train_scores_mean = np.mean(train_scores, axis=1)\n",
    "train_scores_std = np.std(train_scores, axis=1)\n",
    "test_scores_mean = np.mean(test_scores, axis=1)\n",
    "test_scores_std = np.std(test_scores, axis=1)\n",
    "\n",
    "plt.grid()\n",
    "\n",
    "plt.fill_between(train_sizes, train_scores_mean - train_scores_std,\n",
    "                     train_scores_mean + train_scores_std, alpha=0.1,\n",
    "                     color=\"r\")\n",
    "plt.fill_between(train_sizes, test_scores_mean - test_scores_std,\n",
    "                     test_scores_mean + test_scores_std, alpha=0.1, color=\"g\")\n",
    "plt.plot(train_sizes, train_scores_mean, 'o-', color=\"r\",\n",
    "             label=\"Training score\")\n",
    "plt.plot(train_sizes, test_scores_mean, 'o-', color=\"g\",\n",
    "             label=\"Cross-validation score\")\n",
    "plt.legend(loc=\"best\")\n",
    "plt.xlabel(\"Training examples\")\n",
    "plt.ylabel(\"Score\")\n",
    "plt.title(\"NN learning curve using Gradient Descent\")"
   ]
  },
  {
   "cell_type": "code",
   "execution_count": 85,
   "id": "f5994f81",
   "metadata": {},
   "outputs": [
    {
     "data": {
      "text/plain": [
       "<matplotlib.legend.Legend at 0x21456c334c0>"
      ]
     },
     "execution_count": 85,
     "metadata": {},
     "output_type": "execute_result"
    },
    {
     "data": {
      "image/png": "[encoded data removed]",
      "text/plain": [
       "<Figure size 432x288 with 1 Axes>"
      ]
     },
     "metadata": {
      "needs_background": "light"
     },
     "output_type": "display_data"
    }
   ],
   "source": [
    "fig, ax = plt.subplots()  # Create a figure and an axes.\n",
    "ax.plot(range(0,len(list(nn_model_r5.fitness_curve))),nn_model_r5.fitness_curve[...,0],'-',label='RHC')  # Plot some data on the axes.\n",
    "ax.plot(range(0,len(list(nn_modelSA_temp5.fitness_curve))),nn_modelSA_temp5.fitness_curve[...,0],'-',label='SA')  # Plot more data on the axes...\n",
    "ax.plot(range(0,len(list(nn_modelGA_100.fitness_curve))),nn_modelGA_100.fitness_curve[...,0],'-',label='GA') # ... and some more.\n",
    "ax.plot(range(0,len(list(nn_modelGD.fitness_curve))),-nn_modelGD.fitness_curve,'-',label='Gradient Descent')\n",
    "ax.set_xlabel('Iterations')  # Add an x-label to the axes.\n",
    "ax.set_ylabel('Loss')  # Add a y-label to the axes.\n",
    "ax.set_title(\"loss curves for finding weights algorithms\")  # Add a title to the axes.\n",
    "ax.legend()  # Add a legend."
   ]
  },
  {
   "cell_type": "code",
   "execution_count": 77,
   "id": "0e220330",
   "metadata": {},
   "outputs": [
    {
     "data": {
      "image/png": "[encoded data removed]",
      "text/plain": [
       "<Figure size 576x360 with 1 Axes>"
      ]
     },
     "metadata": {
      "needs_background": "light"
     },
     "output_type": "display_data"
    }
   ],
   "source": [
    "fig = plt.figure(figsize = (8, 5))\n",
    "names = [\"RHC\",\"SA\",\"GA\",\"GD\"]\n",
    "loss_list=[nn_model_r5.loss,nn_modelSA_temp5.loss,nn_modelGA_100.loss,nn_modelGD.loss]\n",
    "# creating the bar plot\n",
    "plt.bar(names,loss_list, width = 0.4)\n",
    "plt.ylabel(\"loss\")\n",
    "plt.title(\"loss of each algorithms\")\n",
    "plt.show()"
   ]
  },
  {
   "cell_type": "code",
   "execution_count": 78,
   "id": "ab65be6b",
   "metadata": {},
   "outputs": [
    {
     "name": "stdout",
     "output_type": "stream",
     "text": [
      "0.7552447552447552\n"
     ]
    }
   ],
   "source": [
    "y_test_predRHC = nn_model_r5.predict(X_test_scaled)\n",
    "\n",
    "y_test_accuracyRHC = accuracy_score(y_test, y_test_predRHC)\n",
    "\n",
    "print(y_test_accuracyRHC)"
   ]
  },
  {
   "cell_type": "code",
   "execution_count": 79,
   "id": "4be26249",
   "metadata": {},
   "outputs": [
    {
     "name": "stdout",
     "output_type": "stream",
     "text": [
      "0.958041958041958\n"
     ]
    }
   ],
   "source": [
    "y_test_predSA = nn_modelSA_temp5.predict(X_test_scaled)\n",
    "\n",
    "y_test_accuracySA = accuracy_score(y_test, y_test_predSA)\n",
    "\n",
    "print(y_test_accuracySA)"
   ]
  },
  {
   "cell_type": "code",
   "execution_count": 80,
   "id": "1adae035",
   "metadata": {},
   "outputs": [
    {
     "name": "stdout",
     "output_type": "stream",
     "text": [
      "0.9300699300699301\n"
     ]
    }
   ],
   "source": [
    "y_test_predGA = nn_modelGA_100.predict(X_test_scaled)\n",
    "\n",
    "y_test_accuracyGA = accuracy_score(y_test, y_test_predGA)\n",
    "\n",
    "print(y_test_accuracyGA)"
   ]
  },
  {
   "cell_type": "code",
   "execution_count": 81,
   "id": "b9db3232",
   "metadata": {},
   "outputs": [
    {
     "name": "stdout",
     "output_type": "stream",
     "text": [
      "0.972027972027972\n"
     ]
    }
   ],
   "source": [
    "y_test_predGD = nn_modelGD.predict(X_test_scaled)\n",
    "\n",
    "y_test_accuracyGD = accuracy_score(y_test, y_test_predGD)\n",
    "\n",
    "print(y_test_accuracyGD)"
   ]
  },
  {
   "cell_type": "code",
   "execution_count": 82,
   "id": "95ec6dfb",
   "metadata": {},
   "outputs": [
    {
     "data": {
      "image/png": "[encoded data removed]",
      "text/plain": [
       "<Figure size 576x360 with 1 Axes>"
      ]
     },
     "metadata": {
      "needs_background": "light"
     },
     "output_type": "display_data"
    }
   ],
   "source": [
    "fig = plt.figure(figsize = (8, 5))\n",
    "names = [\"RHC\",\"SA\",\"GA\",\"GD\"]\n",
    "accuracy_list=[y_test_accuracyRHC,y_test_accuracySA, y_test_accuracyGA, y_test_accuracyGD]\n",
    "# creating the bar plot\n",
    "plt.bar(names,accuracy_list, width = 0.4)\n",
    "plt.ylabel(\"Accuracy\")\n",
    "plt.title(\"Accuracy on Test Set\")\n",
    "plt.show()"
   ]
  },
  {
   "cell_type": "code",
   "execution_count": null,
   "id": "3bc1db1b",
   "metadata": {},
   "outputs": [],
   "source": []
  }
 ],
 "metadata": {
  "kernelspec": {
   "display_name": "Python 3 (ipykernel)",
   "language": "python",
   "name": "python3"
  },
  "language_info": {
   "codemirror_mode": {
    "name": "ipython",
    "version": 3
   },
   "file_extension": ".py",
   "mimetype": "text/x-python",
   "name": "python",
   "nbconvert_exporter": "python",
   "pygments_lexer": "ipython3",
   "version": "3.9.7"
  }
 },
 "nbformat": 4,
 "nbformat_minor": 5
}